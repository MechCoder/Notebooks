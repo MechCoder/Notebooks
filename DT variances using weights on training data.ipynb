{
 "cells": [
  {
   "cell_type": "code",
   "execution_count": 1,
   "metadata": {
    "collapsed": false
   },
   "outputs": [
    {
     "name": "stderr",
     "output_type": "stream",
     "text": [
      "/usr/local/lib/python3.4/dist-packages/sklearn/cross_validation.py:43: DeprecationWarning: This module has been deprecated in favor of the model_selection module into which all the refactored classes and functions are moved. Also note that the interface of the new CV iterators are different from that of this module. This module will be removed in 0.20.\n",
      "  \"This module will be removed in 0.20.\", DeprecationWarning)\n"
     ]
    }
   ],
   "source": [
    "from sklearn.datasets import make_regression\n",
    "import numpy as np\n",
    "from sklearn.cross_validation import train_test_split\n",
    "from skopt.learning import RandomForestRegressor"
   ]
  },
  {
   "cell_type": "code",
   "execution_count": 2,
   "metadata": {
    "collapsed": true
   },
   "outputs": [],
   "source": [
    "def weighted_variance(y, weights=None):\n",
    "    w_mean = np.average(y, weights=weights)\n",
    "    return np.sum(weights * (y - w_mean)**2) / np.sum(weights)"
   ]
  },
  {
   "cell_type": "code",
   "execution_count": 3,
   "metadata": {
    "collapsed": false
   },
   "outputs": [],
   "source": [
    "X, y = make_regression(random_state=0, n_samples=500, n_features=100)\n",
    "X_train, X_test, y_train, y_test = train_test_split(X, y, random_state=0)"
   ]
  },
  {
   "cell_type": "code",
   "execution_count": 4,
   "metadata": {
    "collapsed": true
   },
   "outputs": [],
   "source": [
    "from sklearn.tree import DecisionTreeRegressor"
   ]
  },
  {
   "cell_type": "code",
   "execution_count": 5,
   "metadata": {
    "collapsed": false
   },
   "outputs": [],
   "source": [
    "dtr = DecisionTreeRegressor(max_depth=5, random_state=0)\n",
    "dtr.fit(X_train, y_train)\n",
    "mean = dtr.predict(X_test)\n",
    "var = dtr.tree_.impurity[dtr.apply(X_test)]"
   ]
  },
  {
   "cell_type": "code",
   "execution_count": 6,
   "metadata": {
    "collapsed": true
   },
   "outputs": [],
   "source": [
    "def weights_training_data(X_train, X_test, tree, weights=None):\n",
    "    \"\"\"\n",
    "    Return weights on y_train for a single tree\n",
    "    as given by formula 4] in \n",
    "    http://www.jmlr.org/papers/volume7/meinshausen06a/meinshausen06a.pdfn http://www.jmlr.org/papers/volume7/meinshausen06a/meinshausen06a.pdf\n",
    "    \n",
    "    For an ensemble it might be usef\n",
    "    \"\"\"\n",
    "    train_leaf_nodes = dtr.apply(X_train)\n",
    "    test_leaf_nodes = dtr.apply(X_test)\n",
    "\n",
    "    if weights is None:\n",
    "        weights = np.zeros((X_test.shape[0], X_train.shape[0]))\n",
    "    for X_ind, leaf_node in enumerate(test_leaf_nodes):\n",
    "        samples_in_tree_mask = train_leaf_nodes == leaf_node\n",
    "        weights[X_ind][samples_in_tree_mask] += 1.0 / np.sum(samples_in_tree_mask)\n",
    "\n",
    "    return weights"
   ]
  },
  {
   "cell_type": "code",
   "execution_count": 7,
   "metadata": {
    "collapsed": false
   },
   "outputs": [],
   "source": [
    "weights = weights_training_data(X_train, X_test, dtr)\n",
    "also_mean = np.zeros(X_test.shape[0])\n",
    "also_var = np.zeros(X_test.shape[0])\n",
    "\n",
    "for i in range(X_test.shape[0]):\n",
    "    also_mean[i] = np.average(y_train, weights=weights[i])\n",
    "    also_var[i] = weighted_variance(y_train, weights[i])"
   ]
  },
  {
   "cell_type": "code",
   "execution_count": 8,
   "metadata": {
    "collapsed": false
   },
   "outputs": [
    {
     "name": "stdout",
     "output_type": "stream",
     "text": [
      "True\n",
      "True\n"
     ]
    }
   ],
   "source": [
    "print(np.allclose(mean, also_mean))\n",
    "print(np.allclose(var, also_var))"
   ]
  }
 ],
 "metadata": {
  "kernelspec": {
   "display_name": "Python 3",
   "language": "python",
   "name": "python3"
  },
  "language_info": {
   "codemirror_mode": {
    "name": "ipython",
    "version": 3
   },
   "file_extension": ".py",
   "mimetype": "text/x-python",
   "name": "python",
   "nbconvert_exporter": "python",
   "pygments_lexer": "ipython3",
   "version": "3.4.3"
  }
 },
 "nbformat": 4,
 "nbformat_minor": 0
}
