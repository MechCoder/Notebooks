{
 "cells": [
  {
   "cell_type": "code",
   "execution_count": 1,
   "metadata": {
    "collapsed": false
   },
   "outputs": [
    {
     "name": "stderr",
     "output_type": "stream",
     "text": [
      "/usr/local/lib/python3.4/dist-packages/sklearn/cross_validation.py:43: DeprecationWarning: This module has been deprecated in favor of the model_selection module into which all the refactored classes and functions are moved. Also note that the interface of the new CV iterators are different from that of this module. This module will be removed in 0.20.\n",
      "  \"This module will be removed in 0.20.\", DeprecationWarning)\n"
     ]
    }
   ],
   "source": [
    "from sklearn.datasets import make_regression\n",
    "import numpy as np\n",
    "from sklearn.cross_validation import train_test_split\n",
    "from skopt.learning import RandomForestRegressor"
   ]
  },
  {
   "cell_type": "code",
   "execution_count": 2,
   "metadata": {
    "collapsed": true
   },
   "outputs": [],
   "source": [
    "def weighted_variance(y, weights=None):\n",
    "    w_mean = np.average(y, weights=weights)\n",
    "    return np.sum(weights * (y - w_mean)**2) / np.sum(weights)"
   ]
  },
  {
   "cell_type": "code",
   "execution_count": 3,
   "metadata": {
    "collapsed": false
   },
   "outputs": [],
   "source": [
    "X, y = make_regression(random_state=0, n_samples=500, n_features=100)\n",
    "X_train, X_test, y_train, y_test = train_test_split(X, y, random_state=0)"
   ]
  },
  {
   "cell_type": "code",
   "execution_count": 4,
   "metadata": {
    "collapsed": true
   },
   "outputs": [],
   "source": [
    "from sklearn.tree import DecisionTreeRegressor"
   ]
  },
  {
   "cell_type": "code",
   "execution_count": 5,
   "metadata": {
    "collapsed": false
   },
   "outputs": [],
   "source": [
    "dtr = DecisionTreeRegressor(max_depth=5, random_state=0)\n",
    "dtr.fit(X_train, y_train)\n",
    "mean = dtr.predict(X_test)\n",
    "var = dtr.tree_.impurity[dtr.apply(X_test)]"
   ]
  },
  {
   "cell_type": "code",
   "execution_count": 6,
   "metadata": {
    "collapsed": true
   },
   "outputs": [],
   "source": [
    "def weights_training_data(X_train, X_test, estimator, weights=None):\n",
    "    \"\"\"\n",
    "    Return weights on y_train for a single tree\n",
    "    as given by formula 4] in \n",
    "    http://www.jmlr.org/papers/volume7/meinshausen06a/meinshausen06a.pdfn http://www.jmlr.org/papers/volume7/meinshausen06a/meinshausen06a.pdf\n",
    "    \n",
    "    For an ensemble it might be useful to set the weights as the cumulative sum\n",
    "    of the weights across all previous trees.\n",
    "    \"\"\"\n",
    "    train_leaf_nodes = estimator.apply(X_train)\n",
    "    test_leaf_nodes = estimator.apply(X_test)\n",
    "\n",
    "    if weights is None:\n",
    "        weights = np.zeros((X_test.shape[0], X_train.shape[0]))\n",
    "    for X_ind, leaf_node in enumerate(test_leaf_nodes):\n",
    "        samples_in_tree_mask = train_leaf_nodes == leaf_node\n",
    "        weights[X_ind][samples_in_tree_mask] += 1.0 / np.sum(samples_in_tree_mask)\n",
    "\n",
    "    return weights"
   ]
  },
  {
   "cell_type": "code",
   "execution_count": 7,
   "metadata": {
    "collapsed": false
   },
   "outputs": [],
   "source": [
    "weights = weights_training_data(X_train, X_test, dtr)\n",
    "also_mean = np.zeros(X_test.shape[0])\n",
    "also_var = np.zeros(X_test.shape[0])\n",
    "\n",
    "for i in range(X_test.shape[0]):\n",
    "    also_mean[i] = np.average(y_train, weights=weights[i])\n",
    "    also_var[i] = weighted_variance(y_train, weights[i])"
   ]
  },
  {
   "cell_type": "code",
   "execution_count": 8,
   "metadata": {
    "collapsed": false
   },
   "outputs": [
    {
     "name": "stdout",
     "output_type": "stream",
     "text": [
      "True\n",
      "True\n"
     ]
    }
   ],
   "source": [
    "print(np.allclose(mean, also_mean))\n",
    "print(np.allclose(var, also_var))"
   ]
  },
  {
   "cell_type": "code",
   "execution_count": 9,
   "metadata": {
    "collapsed": false
   },
   "outputs": [
    {
     "name": "stdout",
     "output_type": "stream",
     "text": [
      "[-116.16509319   71.6467564   -42.5778626    58.69047161  354.76241583\n",
      "  117.91240068 -116.16509319  -42.5778626   -77.321321     71.6467564\n",
      "   54.67083467  117.91240068  166.23400152  -42.5778626   117.91240068\n",
      " -418.10262055 -267.50726045  117.91240068  166.23400152 -116.16509319\n",
      "   54.67083467   58.69047161   54.67083467  -77.321321   -418.10262055\n",
      "  -42.5778626   117.91240068  -42.5778626  -213.56974772 -195.75384238\n",
      "   58.69047161   54.67083467   71.6467564    58.69047161  117.91240068\n",
      "  117.91240068   69.56159921  297.89777748  -14.54337953   54.67083467\n",
      "  117.91240068  -42.5778626  -418.10262055   58.69047161  117.91240068\n",
      "  117.91240068  117.91240068   58.69047161  166.23400152 -307.44667198\n",
      "   54.67083467   58.69047161  -42.5778626   117.91240068   69.56159921\n",
      "  166.23400152  166.23400152  117.91240068  -42.5778626   -77.321321\n",
      "   54.67083467  166.23400152 -195.75384238 -116.16509319 -116.16509319\n",
      " -213.56974772   58.69047161 -116.16509319   54.67083467 -307.44667198\n",
      "  -77.321321    117.91240068  354.76241583 -307.44667198  285.18775242\n",
      "  117.91240068 -213.56974772   54.67083467 -116.16509319  -77.321321\n",
      "  -42.5778626   -14.54337953   71.6467564    54.67083467 -116.16509319\n",
      "  166.23400152   58.69047161 -267.50726045  -42.5778626    54.67083467\n",
      "  -73.21079563 -201.88530609 -267.50726045 -100.89304828  -77.321321\n",
      "  117.91240068  343.90462338   71.6467564   -14.54337953   54.67083467\n",
      "  166.23400152   58.69047161  285.18775242  352.03255481  354.76241583\n",
      "   58.69047161   58.69047161   58.69047161 -213.56974772 -267.50726045\n",
      " -195.75384238   58.69047161   54.67083467   54.67083467   71.6467564\n",
      "  -77.321321    354.76241583  -42.5778626   -14.54337953 -307.44667198\n",
      " -222.73858491  367.34226703   54.67083467  285.18775242 -195.75384238]\n",
      "[ 10815.45483241  12956.205579     5572.40159146   9436.4433567\n",
      "  11255.62703131  13334.11489382  10815.45483241   5572.40159146\n",
      "  13517.96087533  12956.205579     6363.73406556  13334.11489382\n",
      "  13812.09440682   5572.40159146  13334.11489382   3092.13723901\n",
      "   6583.32788853  13334.11489382  13812.09440682  10815.45483241\n",
      "   6363.73406556   9436.4433567    6363.73406556  13517.96087533\n",
      "   3092.13723901   5572.40159146  13334.11489382   5572.40159146\n",
      "   6362.51450869  10936.33609202   9436.4433567    6363.73406556\n",
      "  12956.205579     9436.4433567   13334.11489382  13334.11489382\n",
      "  10234.27688969  10892.48163387   5375.30846345   6363.73406556\n",
      "  13334.11489382   5572.40159146   3092.13723901   9436.4433567\n",
      "  13334.11489382  13334.11489382  13334.11489382   9436.4433567\n",
      "  13812.09440682   7758.39046172   6363.73406556   9436.4433567\n",
      "   5572.40159146  13334.11489382  10234.27688969  13812.09440682\n",
      "  13812.09440682  13334.11489382   5572.40159146  13517.96087533\n",
      "   6363.73406556  13812.09440682  10936.33609202  10815.45483241\n",
      "  10815.45483241   6362.51450869   9436.4433567   10815.45483241\n",
      "   6363.73406556   7758.39046172  13517.96087533  13334.11489382\n",
      "  11255.62703131   7758.39046172    112.17750191  13334.11489382\n",
      "   6362.51450869   6363.73406556  10815.45483241  13517.96087533\n",
      "   5572.40159146   5375.30846345  12956.205579     6363.73406556\n",
      "  10815.45483241  13812.09440682   9436.4433567    6583.32788853\n",
      "   5572.40159146   6363.73406556   8226.04847115   2885.39096527\n",
      "   6583.32788853   7472.51827828  13517.96087533  13334.11489382\n",
      "   6761.1737379   12956.205579     5375.30846345   6363.73406556\n",
      "  13812.09440682   9436.4433567     112.17750191   4917.51458106\n",
      "  11255.62703131   9436.4433567    9436.4433567    9436.4433567\n",
      "   6362.51450869   6583.32788853  10936.33609202   9436.4433567\n",
      "   6363.73406556   6363.73406556  12956.205579    13517.96087533\n",
      "  11255.62703131   5572.40159146   5375.30846345   7758.39046172\n",
      "   1534.99709028   3589.2279011    6363.73406556    112.17750191\n",
      "  10936.33609202]\n"
     ]
    }
   ],
   "source": [
    "rf = RandomForestRegressor(random_state=0, n_estimators=100, max_depth=5, bootstrap=False)\n",
    "rf.fit(X_train, y_train)\n",
    "rf_mean, rf_std = rf.predict(X_test, return_std=True)\n",
    "rf_var = rf_std**2"
   ]
  },
  {
   "cell_type": "code",
   "execution_count": 10,
   "metadata": {
    "collapsed": false
   },
   "outputs": [
    {
     "name": "stdout",
     "output_type": "stream",
     "text": [
      "6.8212102633e-13\n",
      "[ 10815.45483241  12956.205579     5572.40159146   9436.4433567\n",
      "  11255.62703131  13334.11489382  10815.45483241   5572.40159146\n",
      "  13517.96087533  12956.205579     6363.73406556  13334.11489382\n",
      "  13812.09440682   5572.40159146  13334.11489382   3092.13723901\n",
      "   6583.32788853  13334.11489382  13812.09440682  10815.45483241\n",
      "   6363.73406556   9436.4433567    6363.73406556  13517.96087533\n",
      "   3092.13723901   5572.40159146  13334.11489382   5572.40159146\n",
      "   6362.51450869  10936.33609202   9436.4433567    6363.73406556\n",
      "  12956.205579     9436.4433567   13334.11489382  13334.11489382\n",
      "  10234.27688969  10892.48163387   5375.30846345   6363.73406556\n",
      "  13334.11489382   5572.40159146   3092.13723901   9436.4433567\n",
      "  13334.11489382  13334.11489382  13334.11489382   9436.4433567\n",
      "  13812.09440682   7758.39046172   6363.73406556   9436.4433567\n",
      "   5572.40159146  13334.11489382  10234.27688969  13812.09440682\n",
      "  13812.09440682  13334.11489382   5572.40159146  13517.96087533\n",
      "   6363.73406556  13812.09440682  10936.33609202  10815.45483241\n",
      "  10815.45483241   6362.51450869   9436.4433567   10815.45483241\n",
      "   6363.73406556   7758.39046172  13517.96087533  13334.11489382\n",
      "  11255.62703131   7758.39046172    112.17750191  13334.11489382\n",
      "   6362.51450869   6363.73406556  10815.45483241  13517.96087533\n",
      "   5572.40159146   5375.30846345  12956.205579     6363.73406556\n",
      "  10815.45483241  13812.09440682   9436.4433567    6583.32788853\n",
      "   5572.40159146   6363.73406556   8226.04847115   2885.39096527\n",
      "   6583.32788853   7472.51827828  13517.96087533  13334.11489382\n",
      "   6761.1737379   12956.205579     5375.30846345   6363.73406556\n",
      "  13812.09440682   9436.4433567     112.17750191   4917.51458106\n",
      "  11255.62703131   9436.4433567    9436.4433567    9436.4433567\n",
      "   6362.51450869   6583.32788853  10936.33609202   9436.4433567\n",
      "   6363.73406556   6363.73406556  12956.205579    13517.96087533\n",
      "  11255.62703131   5572.40159146   5375.30846345   7758.39046172\n",
      "   1534.99709028   3589.2279011    6363.73406556    112.17750191\n",
      "  10936.33609202]\n"
     ]
    }
   ],
   "source": [
    "weights = np.zeros((X_test.shape[0], X_train.shape[0]))\n",
    "also_rf_mean = np.zeros(X_test.shape[0])\n",
    "also_rf_var = np.zeros(X_test.shape[0])\n",
    "\n",
    "tree = rf.estimators_[0]\n",
    "tree.predict(X_test)\n",
    "\n",
    "for tree in rf.estimators_:\n",
    "    weights = weights_training_data(X_train, X_test, tree, weights=weights)\n",
    "    \n",
    "weights /= len(rf.estimators_)\n",
    "for i in range(X_test.shape[0]):\n",
    "    also_rf_mean[i] = np.average(y_train, weights=weights[i])\n",
    "    also_rf_var[i] = weighted_variance(y_train, weights[i])"
   ]
  },
  {
   "cell_type": "code",
   "execution_count": 12,
   "metadata": {
    "collapsed": false
   },
   "outputs": [
    {
     "name": "stdout",
     "output_type": "stream",
     "text": [
      "True\n",
      "True\n"
     ]
    }
   ],
   "source": [
    "print(np.allclose(rf_mean, also_rf_mean))\n",
    "print(np.allclose(rf_var, also_rf_var))"
   ]
  }
 ],
 "metadata": {
  "kernelspec": {
   "display_name": "Python 3",
   "language": "python",
   "name": "python3"
  },
  "language_info": {
   "codemirror_mode": {
    "name": "ipython",
    "version": 3
   },
   "file_extension": ".py",
   "mimetype": "text/x-python",
   "name": "python",
   "nbconvert_exporter": "python",
   "pygments_lexer": "ipython3",
   "version": "3.4.3"
  }
 },
 "nbformat": 4,
 "nbformat_minor": 0
}
