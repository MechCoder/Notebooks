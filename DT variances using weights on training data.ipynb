{
 "cells": [
  {
   "cell_type": "code",
   "execution_count": 1,
   "metadata": {
    "collapsed": false
   },
   "outputs": [
    {
     "name": "stderr",
     "output_type": "stream",
     "text": [
      "/usr/local/lib/python3.4/dist-packages/sklearn/cross_validation.py:43: DeprecationWarning: This module has been deprecated in favor of the model_selection module into which all the refactored classes and functions are moved. Also note that the interface of the new CV iterators are different from that of this module. This module will be removed in 0.20.\n",
      "  \"This module will be removed in 0.20.\", DeprecationWarning)\n"
     ]
    }
   ],
   "source": [
    "from sklearn.datasets import make_regression\n",
    "import numpy as np\n",
    "from sklearn.cross_validation import train_test_split\n",
    "from skopt.learning import RandomForestRegressor"
   ]
  },
  {
   "cell_type": "code",
   "execution_count": 2,
   "metadata": {
    "collapsed": true
   },
   "outputs": [],
   "source": [
    "def weighted_variance(y, weights=None):\n",
    "    w_mean = np.average(y, weights=weights)\n",
    "    return np.sum(weights * (y - w_mean)**2) / np.sum(weights)"
   ]
  },
  {
   "cell_type": "code",
   "execution_count": 3,
   "metadata": {
    "collapsed": false
   },
   "outputs": [],
   "source": [
    "X, y = make_regression(random_state=0, n_samples=500, n_features=100)\n",
    "X_train, X_test, y_train, y_test = train_test_split(X, y, random_state=0)"
   ]
  },
  {
   "cell_type": "code",
   "execution_count": 4,
   "metadata": {
    "collapsed": true
   },
   "outputs": [],
   "source": [
    "from sklearn.tree import DecisionTreeRegressor"
   ]
  },
  {
   "cell_type": "code",
   "execution_count": 5,
   "metadata": {
    "collapsed": false
   },
   "outputs": [
    {
     "data": {
      "text/plain": [
       "array([ 10815.45483241,  12956.205579  ,   5572.40159146,   9436.4433567 ,\n",
       "        11255.62703131,  13334.11489382,  10815.45483241,   5572.40159146,\n",
       "        13517.96087533,  12956.205579  ,   6363.73406556,  13334.11489382,\n",
       "        13812.09440682,   5572.40159146,  13334.11489382,   3092.13723901,\n",
       "         6583.32788853,  13334.11489382,  13812.09440682,  10815.45483241,\n",
       "         6363.73406556,   9436.4433567 ,   6363.73406556,  13517.96087533,\n",
       "         3092.13723901,   5572.40159146,  13334.11489382,   5572.40159146,\n",
       "         6362.51450869,  10936.33609202,   9436.4433567 ,   6363.73406556,\n",
       "        12956.205579  ,   9436.4433567 ,  13334.11489382,  13334.11489382,\n",
       "        10234.27688969,   3225.67796591,   5375.30846345,   6363.73406556,\n",
       "        13334.11489382,   5572.40159146,   3092.13723901,   9436.4433567 ,\n",
       "        13334.11489382,  13334.11489382,  13334.11489382,   9436.4433567 ,\n",
       "        13812.09440682,   7758.39046172,   6363.73406556,   9436.4433567 ,\n",
       "         5572.40159146,  13334.11489382,  10234.27688969,  13812.09440682,\n",
       "        13812.09440682,  13334.11489382,   5572.40159146,  13517.96087533,\n",
       "         6363.73406556,  13812.09440682,  10936.33609202,  10815.45483241,\n",
       "        10815.45483241,   6362.51450869,   9436.4433567 ,  10815.45483241,\n",
       "         6363.73406556,   7758.39046172,  13517.96087533,  13334.11489382,\n",
       "        11255.62703131,   7758.39046172,    112.17750191,  13334.11489382,\n",
       "         6362.51450869,   6363.73406556,  10815.45483241,  13517.96087533,\n",
       "         5572.40159146,   5375.30846345,  12956.205579  ,   6363.73406556,\n",
       "        10815.45483241,  13812.09440682,   9436.4433567 ,   6583.32788853,\n",
       "         5572.40159146,   6363.73406556,    210.76244822,   2885.39096527,\n",
       "         6583.32788853,   7472.51827828,  13517.96087533,  13334.11489382,\n",
       "          109.84842819,  12956.205579  ,   5375.30846345,   6363.73406556,\n",
       "        13812.09440682,   9436.4433567 ,    112.17750191,     78.47737263,\n",
       "        11255.62703131,   9436.4433567 ,   9436.4433567 ,   9436.4433567 ,\n",
       "         6362.51450869,   6583.32788853,  10936.33609202,   9436.4433567 ,\n",
       "         6363.73406556,   6363.73406556,  12956.205579  ,  13517.96087533,\n",
       "        11255.62703131,   5572.40159146,   5375.30846345,   7758.39046172,\n",
       "         1534.99709028,      0.        ,   6363.73406556,    112.17750191,\n",
       "        10936.33609202])"
      ]
     },
     "execution_count": 5,
     "metadata": {},
     "output_type": "execute_result"
    }
   ],
   "source": [
    "dtr = DecisionTreeRegressor(max_depth=5, random_state=0)\n",
    "dtr.fit(X_train, y_train)\n",
    "mean = dtr.predict(X_test)\n",
    "var = dtr.tree_.impurity[dtr.apply(X_test)]\n",
    "var"
   ]
  },
  {
   "cell_type": "code",
   "execution_count": 6,
   "metadata": {
    "collapsed": false
   },
   "outputs": [],
   "source": [
    "train_leaf_nodes = dtr.apply(X_train)\n",
    "test_leaf_nodes = dtr.apply(X_test)\n",
    "\n",
    "also_mean = np.zeros(X_test.shape[0])\n",
    "also_var = np.zeros(X_test.shape[0])\n",
    "\n",
    "for X_ind, leaf_node in enumerate(test_leaf_nodes):\n",
    "    weights = np.zeros_like(y_train)\n",
    "    samples_in_tree_mask = train_leaf_nodes == leaf_node\n",
    "    weights[samples_in_tree_mask] = 1.0 / np.sum(samples_in_tree_mask)\n",
    "    also_mean[X_ind] = np.average(y_train, weights=weights)\n",
    "    also_var[X_ind] = weighted_variance(y_train, weights)"
   ]
  },
  {
   "cell_type": "code",
   "execution_count": 7,
   "metadata": {
    "collapsed": false
   },
   "outputs": [
    {
     "name": "stdout",
     "output_type": "stream",
     "text": [
      "[ 10815.45483241  12956.205579     5572.40159146   9436.4433567\n",
      "  11255.62703131  13334.11489382  10815.45483241   5572.40159146\n",
      "  13517.96087533  12956.205579     6363.73406556  13334.11489382\n",
      "  13812.09440682   5572.40159146  13334.11489382   3092.13723901\n",
      "   6583.32788853  13334.11489382  13812.09440682  10815.45483241\n",
      "   6363.73406556   9436.4433567    6363.73406556  13517.96087533\n",
      "   3092.13723901   5572.40159146  13334.11489382   5572.40159146\n",
      "   6362.51450869  10936.33609202   9436.4433567    6363.73406556\n",
      "  12956.205579     9436.4433567   13334.11489382  13334.11489382\n",
      "  10234.27688969   3225.67796591   5375.30846345   6363.73406556\n",
      "  13334.11489382   5572.40159146   3092.13723901   9436.4433567\n",
      "  13334.11489382  13334.11489382  13334.11489382   9436.4433567\n",
      "  13812.09440682   7758.39046172   6363.73406556   9436.4433567\n",
      "   5572.40159146  13334.11489382  10234.27688969  13812.09440682\n",
      "  13812.09440682  13334.11489382   5572.40159146  13517.96087533\n",
      "   6363.73406556  13812.09440682  10936.33609202  10815.45483241\n",
      "  10815.45483241   6362.51450869   9436.4433567   10815.45483241\n",
      "   6363.73406556   7758.39046172  13517.96087533  13334.11489382\n",
      "  11255.62703131   7758.39046172    112.17750191  13334.11489382\n",
      "   6362.51450869   6363.73406556  10815.45483241  13517.96087533\n",
      "   5572.40159146   5375.30846345  12956.205579     6363.73406556\n",
      "  10815.45483241  13812.09440682   9436.4433567    6583.32788853\n",
      "   5572.40159146   6363.73406556    210.76244822   2885.39096527\n",
      "   6583.32788853   7472.51827828  13517.96087533  13334.11489382\n",
      "    109.84842819  12956.205579     5375.30846345   6363.73406556\n",
      "  13812.09440682   9436.4433567     112.17750191     78.47737263\n",
      "  11255.62703131   9436.4433567    9436.4433567    9436.4433567\n",
      "   6362.51450869   6583.32788853  10936.33609202   9436.4433567\n",
      "   6363.73406556   6363.73406556  12956.205579    13517.96087533\n",
      "  11255.62703131   5572.40159146   5375.30846345   7758.39046172\n",
      "   1534.99709028      0.           6363.73406556    112.17750191\n",
      "  10936.33609202]\n"
     ]
    }
   ],
   "source": [
    "print(also_var)"
   ]
  },
  {
   "cell_type": "code",
   "execution_count": 8,
   "metadata": {
    "collapsed": false
   },
   "outputs": [
    {
     "data": {
      "text/plain": [
       "True"
      ]
     },
     "execution_count": 8,
     "metadata": {},
     "output_type": "execute_result"
    }
   ],
   "source": [
    "print(np.allclose(mean, also_mean))\n",
    "print(np.allclose(var, also_var))"
   ]
  }
 ],
 "metadata": {
  "kernelspec": {
   "display_name": "Python 3",
   "language": "python",
   "name": "python3"
  },
  "language_info": {
   "codemirror_mode": {
    "name": "ipython",
    "version": 3
   },
   "file_extension": ".py",
   "mimetype": "text/x-python",
   "name": "python",
   "nbconvert_exporter": "python",
   "pygments_lexer": "ipython3",
   "version": "3.4.3"
  }
 },
 "nbformat": 4,
 "nbformat_minor": 0
}
