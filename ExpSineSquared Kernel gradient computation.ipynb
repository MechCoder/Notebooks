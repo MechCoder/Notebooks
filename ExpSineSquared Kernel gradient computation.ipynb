{
 "cells": [
  {
   "cell_type": "markdown",
   "metadata": {},
   "source": [
    "$f(x, y) = e^{\\frac{-2 \\sin^2{\\frac{\\pi \\sqrt{\\sum_{i=1}^d (x_i - y_i)^2}}{P}}}{l^2}}$"
   ]
  },
  {
   "cell_type": "markdown",
   "metadata": {},
   "source": [
    "We need to calculate gradient wrt x when all of $x_i$ == $y_i$"
   ]
  },
  {
   "cell_type": "markdown",
   "metadata": {},
   "source": [
    "$\\frac{d f(x, y)}{d x_i} = e^t \\frac{d t} {d \\theta} \\frac{d \\theta} {d x_i}$ where\n",
    "\n",
    "$t = \\frac{-2 \\sin^2 \\theta} {l^2}$\n",
    "\n",
    "$\\theta = \\frac{\\pi \\sqrt{\\sum_{i=1}^d (x_i - y_i)^2}}{P}$"
   ]
  },
  {
   "cell_type": "markdown",
   "metadata": {},
   "source": [
    "$\\frac {d t} {d \\theta} = -\\frac{2 \\sin{2 \\theta}}{l^2}$"
   ]
  },
  {
   "cell_type": "markdown",
   "metadata": {},
   "source": [
    "$\\frac {d \\theta} {d x} = \\frac{(x_i - y_i)\\pi}{P \\sqrt{\\sum_{i=1}^d (x_i - y_i)^2}}$"
   ]
  },
  {
   "cell_type": "markdown",
   "metadata": {},
   "source": [
    "$\\frac{d f(x_i, y)}{d x_i} = -f(x, y) \\frac{2 \\sin{2 \\theta}}{l^2} \\frac{(x_i - y_i)\\pi}{P \\sqrt{\\sum_{i=1}^d (x_i - y_i)^2}}$"
   ]
  }
 ],
 "metadata": {
  "kernelspec": {
   "display_name": "Python 3",
   "language": "python",
   "name": "python3"
  },
  "language_info": {
   "codemirror_mode": {
    "name": "ipython",
    "version": 3
   },
   "file_extension": ".py",
   "mimetype": "text/x-python",
   "name": "python",
   "nbconvert_exporter": "python",
   "pygments_lexer": "ipython3",
   "version": "3.4.3"
  }
 },
 "nbformat": 4,
 "nbformat_minor": 0
}
