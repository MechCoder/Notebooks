{
 "cells": [
  {
   "cell_type": "code",
   "execution_count": 62,
   "metadata": {
    "collapsed": false
   },
   "outputs": [],
   "source": [
    "from skopt import gp_minimize\n",
    "from skopt.acquisition import gaussian_lcb\n",
    "from sklearn.datasets import make_regression\n",
    "from sklearn.gaussian_process.kernels import RBF as sk_RBF\n",
    "from sklearn.gaussian_process import GaussianProcessRegressor\n",
    "from skopt.benchmarks import branin\n",
    "\n",
    "import numpy as np\n",
    "rng = np.random.RandomState(0)\n",
    "X_rand = rng.rand(100, 2)"
   ]
  },
  {
   "cell_type": "code",
   "execution_count": 97,
   "metadata": {
    "collapsed": true
   },
   "outputs": [],
   "source": [
    "class RBF(sk_RBF):\n",
    "    def gradient_X(self, X_test, X_train=None):\n",
    "        K = super(RBF, self).__call__(X_test, X_train)\n",
    "        diff_X_train = np.expand_dims(X_test, axis=1) - X_train\n",
    "        e_sum = -np.exp(-0.5 * diff_X_train.sum(axis=2))\n",
    "        e_sum /= kernel.length_scale**2\n",
    "        return K * e_sum"
   ]
  },
  {
   "cell_type": "code",
   "execution_count": 98,
   "metadata": {
    "collapsed": false
   },
   "outputs": [],
   "source": [
    "gpr = GaussianProcessRegressor(kernel=RBF())\n",
    "gp_min = gp_minimize(branin, [(-5, 10), (0, 15)], base_estimator=gpr)"
   ]
  },
  {
   "cell_type": "code",
   "execution_count": 99,
   "metadata": {
    "collapsed": true
   },
   "outputs": [],
   "source": [
    "models = gp_min.models[-1]"
   ]
  },
  {
   "cell_type": "code",
   "execution_count": 100,
   "metadata": {
    "collapsed": false
   },
   "outputs": [],
   "source": [
    "mean = models.predict(X_rand)"
   ]
  },
  {
   "cell_type": "code",
   "execution_count": 101,
   "metadata": {
    "collapsed": false
   },
   "outputs": [
    {
     "name": "stdout",
     "output_type": "stream",
     "text": [
      "(100, 100)\n"
     ]
    }
   ],
   "source": [
    "kernel = models.kernel_\n",
    "print(X_test.shape)"
   ]
  },
  {
   "cell_type": "code",
   "execution_count": 102,
   "metadata": {
    "collapsed": false
   },
   "outputs": [
    {
     "data": {
      "text/plain": [
       "array([[ -1.18229370e-04,  -6.14945550e-01,  -1.56440163e-01, ...,\n",
       "         -6.21543928e-01,  -2.64653693e-02,  -3.16691101e-02],\n",
       "       [ -8.20370883e-05,  -6.26701172e-01,  -1.36512982e-01, ...,\n",
       "         -6.42054040e-01,  -2.24776978e-02,  -2.71483575e-02],\n",
       "       [ -1.03856110e-04,  -6.31638402e-01,  -1.62405800e-01, ...,\n",
       "         -6.18688610e-01,  -2.92546141e-02,  -2.71416845e-02],\n",
       "       ..., \n",
       "       [ -7.14146979e-05,  -6.16859414e-01,  -1.20426111e-01, ...,\n",
       "         -6.54026548e-01,  -1.85140883e-02,  -2.76646769e-02],\n",
       "       [ -4.55394896e-05,  -6.70225567e-01,  -1.41634351e-01, ...,\n",
       "         -6.24958571e-01,  -2.81519284e-02,  -1.52071907e-02],\n",
       "       [ -6.77290090e-05,  -6.63907327e-01,  -1.74898234e-01, ...,\n",
       "         -5.93320293e-01,  -3.78461729e-02,  -1.66205572e-02]])"
      ]
     },
     "execution_count": 102,
     "metadata": {},
     "output_type": "execute_result"
    }
   ],
   "source": [
    "kernel.gradient_X(X_rand, models.X_train_)"
   ]
  }
 ],
 "metadata": {
  "kernelspec": {
   "display_name": "Python 3",
   "language": "python",
   "name": "python3"
  },
  "language_info": {
   "codemirror_mode": {
    "name": "ipython",
    "version": 3
   },
   "file_extension": ".py",
   "mimetype": "text/x-python",
   "name": "python",
   "nbconvert_exporter": "python",
   "pygments_lexer": "ipython3",
   "version": "3.4.3"
  }
 },
 "nbformat": 4,
 "nbformat_minor": 0
}
